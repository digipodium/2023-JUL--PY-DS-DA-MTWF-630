{
 "cells": [
  {
   "cell_type": "markdown",
   "metadata": {},
   "source": [
    "# String\n",
    "- create\n",
    "- index and slice\n",
    "- methods"
   ]
  },
  {
   "cell_type": "code",
   "execution_count": null,
   "metadata": {},
   "outputs": [],
   "source": [
    "a = 'Apple'\n",
    "b = \"Banana\"\n",
    "c = '''This\n",
    "is a string\n",
    "of multiple lines'''\n",
    "print(type(a), type(b), type(c))\n",
    "d = str(123) # Convert value to string\n",
    "print(type(d))"
   ]
  },
  {
   "cell_type": "code",
   "execution_count": null,
   "metadata": {},
   "outputs": [],
   "source": [
    "a * 5 # string duplication"
   ]
  },
  {
   "cell_type": "code",
   "execution_count": null,
   "metadata": {},
   "outputs": [],
   "source": [
    "a + b # string concatenation"
   ]
  },
  {
   "cell_type": "code",
   "execution_count": null,
   "metadata": {},
   "outputs": [],
   "source": [
    "a[0] = 'B' # TypeError: 'str' object does not support item assignment"
   ]
  },
  {
   "cell_type": "code",
   "execution_count": null,
   "metadata": {},
   "outputs": [],
   "source": [
    "a[0:3] # > a[0] a[1] a[2]"
   ]
  },
  {
   "cell_type": "code",
   "execution_count": null,
   "metadata": {},
   "outputs": [],
   "source": [
    "name = \"Vijay Deenanath Chauhan\"\n",
    "print(name[0:5])\n",
    "print(name[6:15])\n",
    "print(name[16:len(name)])\n",
    "# when starting index is not given, it is assumed to be 0\n",
    "print(name[:5])\n",
    "# when ending index is not given, it is assumed to be len(name) \n",
    "print(name[16:])\n",
    "print(name[-7:])"
   ]
  },
  {
   "cell_type": "markdown",
   "metadata": {},
   "source": [
    "slicing syntax\n",
    "```\n",
    "var[(start):(stop):(step)]\n",
    "```"
   ]
  },
  {
   "cell_type": "code",
   "execution_count": null,
   "metadata": {},
   "outputs": [],
   "source": [
    "print(name[::2])\n",
    "print(name[1::2])\n",
    "# reverse string\n",
    "print(name[::-1])"
   ]
  },
  {
   "cell_type": "markdown",
   "metadata": {},
   "source": [
    "string method\n",
    "- formatting methods\n",
    "    - upper(), lower(), capitalize(), title(), swapcase()\n",
    "- validation methods\n",
    "    - isupper(), islower(), istitle(), isalpha(), isnumeric()\n",
    "    - startswith(), endswith()\n",
    "- utility methods\n",
    "    - split(), join(), find(), replace(), strip(), count()"
   ]
  },
  {
   "cell_type": "code",
   "execution_count": null,
   "metadata": {},
   "outputs": [],
   "source": [
    "msg = 'This is a PYTHON string'\n",
    "print(msg.upper())\n",
    "print(msg.lower())\n",
    "print(msg.capitalize())\n",
    "print(msg.swapcase())\n",
    "print(msg.casefold())\n",
    "print(msg.title())"
   ]
  },
  {
   "cell_type": "code",
   "execution_count": null,
   "metadata": {},
   "outputs": [],
   "source": [
    "msg = msg.title()\n",
    "print(msg)"
   ]
  },
  {
   "cell_type": "code",
   "execution_count": null,
   "metadata": {},
   "outputs": [],
   "source": [
    "\"hello\".isupper()"
   ]
  },
  {
   "cell_type": "code",
   "execution_count": null,
   "metadata": {},
   "outputs": [],
   "source": [
    "x = input('Enter a number:')\n",
    "print('>>>', x, '<<<')\n",
    "if x.isnumeric():\n",
    "    print('You entered a number')\n",
    "if x.isalpha():\n",
    "    print('You entered a string')\n",
    "if x.isalnum():\n",
    "    print('You entered a alphanumeric')\n",
    "if x.islower():\n",
    "    print('You entered a lowercase string')"
   ]
  },
  {
   "cell_type": "code",
   "execution_count": null,
   "metadata": {},
   "outputs": [],
   "source": [
    "person = \"Ms. Smith\"\n",
    "print(person.startswith(\"Mr.\"))\n",
    "print(person.startswith(\"Ms.\"))"
   ]
  },
  {
   "cell_type": "code",
   "execution_count": null,
   "metadata": {},
   "outputs": [],
   "source": [
    "colors = ['Red','Green','Blue','Black','Brown']\n",
    "for color in colors:\n",
    "    if color.startswith('B'):\n",
    "        print(color)"
   ]
  },
  {
   "cell_type": "code",
   "execution_count": null,
   "metadata": {},
   "outputs": [],
   "source": [
    "images = ['1.jpg','2.png','3.png','4.png','5.jpg']\n",
    "for img in images:\n",
    "    if img.endswith('.png'):\n",
    "        print(\"PNG found >>\",img)\n",
    "    if img.endswith('.jpg'):\n",
    "        print(\"JPG found >>\",img)"
   ]
  },
  {
   "cell_type": "code",
   "execution_count": null,
   "metadata": {},
   "outputs": [],
   "source": [
    "quote = \"Life Before Death, Strength Before Weakness, Journey Before Destination\"\n",
    "print(quote)\n",
    "print(quote.split())\n",
    "print(quote.split(\",\"))\n",
    "print(quote.split(\"e\"))"
   ]
  },
  {
   "cell_type": "code",
   "execution_count": null,
   "metadata": {},
   "outputs": [],
   "source": [
    "words = quote.split()\n",
    "print(words)\n",
    "print(len(words))"
   ]
  },
  {
   "cell_type": "code",
   "execution_count": null,
   "metadata": {},
   "outputs": [],
   "source": [
    "x = ['Alex','Alexa','Alexis','Alexander']\n",
    "print(\" \".join(x))\n",
    "print(\", \".join(x))\n",
    "print(\"---\".join(x))\n",
    "print(\" + \".join(x))\n",
    "print('a'.join(x))"
   ]
  },
  {
   "cell_type": "code",
   "execution_count": null,
   "metadata": {},
   "outputs": [],
   "source": [
    "story= 'Once upon a time, there was a king, who left his kingdom to the queen, and she ruled over it'"
   ]
  },
  {
   "cell_type": "code",
   "execution_count": null,
   "metadata": {},
   "outputs": [],
   "source": [
    "print(story.find('on'))\n",
    "print(story.find('king'))\n",
    "print(story.find('queen'))\n",
    "print(story.find('prince'))\n",
    "print(story.find('king', 31)) # 31 is the starting index for searching\n",
    "print(story.rfind('the')) # rfind() searches from the right side"
   ]
  },
  {
   "cell_type": "code",
   "execution_count": null,
   "metadata": {},
   "outputs": [],
   "source": [
    "print(story.replace('i','o'))\n",
    "print(story.replace('the','this'))\n",
    "print(story.replace('time','year').replace('was','is').replace('left','leaves'))\n",
    "print(story.replace('a','')) # remove all a\n",
    "print(story.replace('king','')) # remove all king"
   ]
  },
  {
   "cell_type": "code",
   "execution_count": null,
   "metadata": {},
   "outputs": [],
   "source": [
    "story = story.replace('king', 'queen')\n",
    "print(story)"
   ]
  },
  {
   "cell_type": "code",
   "execution_count": null,
   "metadata": {},
   "outputs": [],
   "source": [
    "data = ' hello    '\n",
    "cdata = data.strip()\n",
    "print(cdata, len(data), len(cdata))"
   ]
  },
  {
   "cell_type": "code",
   "execution_count": null,
   "metadata": {},
   "outputs": [],
   "source": [
    "kachra = '''\n",
    " Rs. 10000\n",
    "\n",
    "'''\n",
    "print(kachra)\n",
    "print(kachra.strip())"
   ]
  },
  {
   "cell_type": "code",
   "execution_count": 41,
   "metadata": {},
   "outputs": [
    {
     "name": "stdout",
     "output_type": "stream",
     "text": [
      "1\n",
      "2\n",
      "3\n",
      "4\n",
      "5\n"
     ]
    }
   ],
   "source": [
    "images = ['1.jpg','2.png','3.png','4.png','5.jpg']\n",
    "for image in images:\n",
    "    image = image.removesuffix('.png').removesuffix('.jpg')\n",
    "    print(image)"
   ]
  },
  {
   "cell_type": "code",
   "execution_count": null,
   "metadata": {},
   "outputs": [],
   "source": [
    "prices = ['Rs.10000', 'Rs.8000', 'Rs.12000', 'Rs.15000', 'Rs.20000']\n",
    "for price in prices:\n",
    "    pr = price.removeprefix('Rs.')\n",
    "    print(int(pr))"
   ]
  },
  {
   "cell_type": "code",
   "execution_count": 49,
   "metadata": {},
   "outputs": [
    {
     "name": "stdout",
     "output_type": "stream",
     "text": [
      "3\n",
      "4\n",
      "0\n",
      "1\n"
     ]
    }
   ],
   "source": [
    "print(story.count(\"queen\"))\n",
    "print(story.count(\"a\"))\n",
    "print(story.count(\"this\"))\n",
    "print(story.count(\"is\"))"
   ]
  },
  {
   "cell_type": "code",
   "execution_count": 51,
   "metadata": {},
   "outputs": [
    {
     "data": {
      "text/plain": [
       "32"
      ]
     },
     "execution_count": 51,
     "metadata": {},
     "output_type": "execute_result"
    }
   ],
   "source": [
    "# total vowels in story\n",
    "story.count('a')+story.count('e')+story.count('i')+story.count('o')+story.count('u')"
   ]
  },
  {
   "cell_type": "code",
   "execution_count": 53,
   "metadata": {},
   "outputs": [],
   "source": [
    "import this"
   ]
  },
  {
   "cell_type": "code",
   "execution_count": 55,
   "metadata": {},
   "outputs": [],
   "source": [
    "content ='''The Zen of Python, by Tim Peters\n",
    "Beautiful is better than ugly.\n",
    "Explicit is better than implicit.\n",
    "Simple is better than complex.\n",
    "Complex is better than complicated.\n",
    "Flat is better than nested.\n",
    "Sparse is better than dense.\n",
    "Readability counts.\n",
    "Special cases aren't special enough to break the rules.\n",
    "Although practicality beats purity.\n",
    "Errors should never pass silently.\n",
    "Unless explicitly silenced.\n",
    "In the face of ambiguity, refuse the temptation to guess.\n",
    "There should be one-- and preferably only one --obvious way to do it.\n",
    "Although that way may not be obvious at first unless you're Dutch.\n",
    "Now is better than never.\n",
    "Although never is often better than *right* now.\n",
    "If the implementation is hard to explain, it's a bad idea.\n",
    "If the implementation is easy to explain, it may be a good idea.\n",
    "Namespaces are one honking great idea -- let's do more of those!\n",
    "'''"
   ]
  },
  {
   "cell_type": "code",
   "execution_count": 58,
   "metadata": {},
   "outputs": [
    {
     "name": "stdout",
     "output_type": "stream",
     "text": [
      "honking             7\n",
      "silently.           9\n",
      "complex.            8\n",
      "beats               5\n",
      "implicit.           9\n",
      "of                  2\n",
      "Beautiful           9\n",
      "way                 3\n",
      "implementation      14\n",
      "may                 3\n",
      "the                 3\n",
      "first               5\n",
      "rules.              6\n",
      "nested.             7\n",
      "good                4\n",
      "one--               5\n",
      "it's                4\n",
      "special             7\n",
      "Readability         11\n",
      "If                  2\n",
      "temptation          10\n",
      "Errors              6\n",
      "those!              6\n",
      "Tim                 3\n",
      "break               5\n",
      "bad                 3\n",
      "face                4\n",
      "you're              6\n",
      "explicitly          10\n",
      "Zen                 3\n",
      "--                  2\n",
      "refuse              6\n",
      "Flat                4\n",
      "it                  2\n",
      "Dutch.              6\n",
      "now.                4\n",
      "There               5\n",
      "unless              6\n",
      "cases               5\n",
      "often               5\n",
      "is                  2\n",
      "In                  2\n",
      "guess.              6\n",
      "Special             7\n",
      "do                  2\n",
      "--obvious           9\n",
      "idea.               5\n",
      "one                 3\n",
      "ambiguity,          10\n",
      "at                  2\n",
      "to                  2\n",
      "better              6\n",
      "counts.             7\n",
      "hard                4\n",
      "*right*             7\n",
      "Now                 3\n",
      "a                   1\n",
      "ugly.               5\n",
      "should              6\n",
      "it.                 3\n",
      "more                4\n",
      "Namespaces          10\n",
      "The                 3\n",
      "aren't              6\n",
      "complicated.        12\n",
      "practicality        12\n",
      "easy                4\n",
      "purity.             7\n",
      "not                 3\n",
      "and                 3\n",
      "Sparse              6\n",
      "never.              6\n",
      "be                  2\n",
      "idea                4\n",
      "never               5\n",
      "enough              6\n",
      "great               5\n",
      "that                4\n",
      "let's               5\n",
      "Explicit            8\n",
      "only                4\n",
      "obvious             7\n",
      "Although            8\n",
      "explain,            8\n",
      "Complex             7\n",
      "preferably          10\n",
      "Python,             7\n",
      "pass                4\n",
      "Unless              6\n",
      "Peters              6\n",
      "are                 3\n",
      "than                4\n",
      "dense.              6\n",
      "Simple              6\n",
      "silenced.           9\n",
      "by                  2\n"
     ]
    }
   ],
   "source": [
    "for word in set(content.split()):\n",
    "    print(f'{word:20}{len(word)}')"
   ]
  },
  {
   "cell_type": "code",
   "execution_count": null,
   "metadata": {},
   "outputs": [],
   "source": []
  }
 ],
 "metadata": {
  "kernelspec": {
   "display_name": "base",
   "language": "python",
   "name": "python3"
  },
  "language_info": {
   "codemirror_mode": {
    "name": "ipython",
    "version": 3
   },
   "file_extension": ".py",
   "mimetype": "text/x-python",
   "name": "python",
   "nbconvert_exporter": "python",
   "pygments_lexer": "ipython3",
   "version": "3.10.11"
  },
  "orig_nbformat": 4
 },
 "nbformat": 4,
 "nbformat_minor": 2
}
