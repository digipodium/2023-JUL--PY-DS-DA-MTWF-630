{
 "cells": [
  {
   "cell_type": "code",
   "execution_count": 6,
   "metadata": {},
   "outputs": [],
   "source": [
    "x = input('enter name:')\n",
    "if len(x) == 4:\n",
    "    print(\"Welcome mister 4 letters\")\n",
    "\n",
    "if len(x) == 0:\n",
    "    print('welcome Mr. nobody')"
   ]
  },
  {
   "cell_type": "code",
   "execution_count": 7,
   "metadata": {},
   "outputs": [
    {
     "name": "stdout",
     "output_type": "stream",
     "text": [
      "Even number\n"
     ]
    }
   ],
   "source": [
    "num = int(input('enter number:'))\n",
    "if num % 2 == 0:\n",
    "    print(\"Even number\")\n",
    "else:\n",
    "    print(\"Odd number\")"
   ]
  },
  {
   "cell_type": "code",
   "execution_count": 8,
   "metadata": {},
   "outputs": [
    {
     "name": "stdout",
     "output_type": "stream",
     "text": [
      "c is greater\n"
     ]
    }
   ],
   "source": [
    "a, b, c = 10, 20, 30\n",
    "if a > b and a > c:\n",
    "    print(\"a is greater\")\n",
    "elif b > a and b > c:\n",
    "    print(\"b is greater\")\n",
    "else:\n",
    "    print(\"c is greater\")"
   ]
  },
  {
   "cell_type": "code",
   "execution_count": null,
   "metadata": {},
   "outputs": [],
   "source": [
    "day = input('enter day:')\n",
    "match(day):\n",
    "    case 'monday': print(\"You chose monday\")\n",
    "    case 'tuesday': print(\"You chose tuesday\")\n",
    "    case 'wednesday'|'thursday': print('You chose a day')\n",
    "    case 'friday': print('You chose friday')\n",
    "    case 'saturday'|'sunday': print('You chose weekend')\n",
    "    case _: print('You chose a wrong day')"
   ]
  },
  {
   "cell_type": "code",
   "execution_count": 13,
   "metadata": {},
   "outputs": [
    {
     "name": "stdout",
     "output_type": "stream",
     "text": [
      "200000 -> 25000.0\n"
     ]
    }
   ],
   "source": [
    "amount = int(input('enter basic amount:'))\n",
    "if amount < 10000:\n",
    "    total = amount + amount * 0.5\n",
    "elif amount < 50000:\n",
    "    total = amount + amount * 0.25\n",
    "elif amount < 100000:\n",
    "    total = amount + amount * 0.1\n",
    "print(f'{amount} -> {total}')"
   ]
  },
  {
   "cell_type": "code",
   "execution_count": 14,
   "metadata": {},
   "outputs": [
    {
     "name": "stdout",
     "output_type": "stream",
     "text": [
      "Simple interest is 33672000.0\n"
     ]
    }
   ],
   "source": [
    "p = int(input('enter principal amount:'))\n",
    "r = int(input('enter rate:'))\n",
    "t = int(input('enter time:'))\n",
    "si = p * r * t / 100\n",
    "print(f'Simple interest is {si}')"
   ]
  },
  {
   "cell_type": "code",
   "execution_count": null,
   "metadata": {},
   "outputs": [],
   "source": []
  }
 ],
 "metadata": {
  "kernelspec": {
   "display_name": "base",
   "language": "python",
   "name": "python3"
  },
  "language_info": {
   "codemirror_mode": {
    "name": "ipython",
    "version": 3
   },
   "file_extension": ".py",
   "mimetype": "text/x-python",
   "name": "python",
   "nbconvert_exporter": "python",
   "pygments_lexer": "ipython3",
   "version": "3.10.11"
  },
  "orig_nbformat": 4
 },
 "nbformat": 4,
 "nbformat_minor": 2
}
