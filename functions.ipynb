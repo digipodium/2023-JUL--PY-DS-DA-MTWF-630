{
 "cells": [
  {
   "cell_type": "markdown",
   "metadata": {},
   "source": [
    "syntax\n",
    "```\n",
    "def fun_name([parameter]):\n",
    "    statement 1\n",
    "    statement 2\n",
    "    ...\n",
    "    statement n\n",
    "    [return expression]\n",
    "```\n",
    "example\n",
    "```python\n",
    "def area(width, height):\n",
    "    a = width * height\n",
    "    return a\n",
    "```"
   ]
  },
  {
   "cell_type": "markdown",
   "metadata": {},
   "source": [
    "#### functions\n",
    "- based on parameter and return value\n",
    "    1. no parameter, no return value\n",
    "    2. no parameter, return value\n",
    "    3. parameter, no return value\n",
    "    4. parameter, return value\n",
    "- based on parameter type\n",
    "    1. required parameter\n",
    "    2. keyword parameter\n",
    "    3. default parameter\n",
    "    4. variable length arguments (*args)\n",
    "    5. variable keyword arguments (**kwargs)\n",
    "- other types of function\n",
    "    - lambda function\n",
    "    - generator function\n",
    "    - recursive function"
   ]
  },
  {
   "cell_type": "code",
   "execution_count": null,
   "metadata": {},
   "outputs": [],
   "source": []
  }
 ],
 "metadata": {
  "kernelspec": {
   "display_name": "base",
   "language": "python",
   "name": "python3"
  },
  "language_info": {
   "name": "python",
   "version": "3.10.11"
  },
  "orig_nbformat": 4
 },
 "nbformat": 4,
 "nbformat_minor": 2
}
