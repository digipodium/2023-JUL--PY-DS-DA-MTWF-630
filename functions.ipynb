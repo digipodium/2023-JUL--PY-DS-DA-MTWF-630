{
 "cells": [
  {
   "cell_type": "markdown",
   "metadata": {},
   "source": [
    "syntax\n",
    "```\n",
    "def fun_name([parameter]):\n",
    "    statement 1\n",
    "    statement 2\n",
    "    ...\n",
    "    statement n\n",
    "    [return expression]\n",
    "```\n",
    "example\n",
    "```python\n",
    "def area(width, height):\n",
    "    a = width * height\n",
    "    return a\n",
    "```"
   ]
  },
  {
   "cell_type": "markdown",
   "metadata": {},
   "source": [
    "#### functions\n",
    "- based on parameter and return value\n",
    "    1. no parameter, no return value\n",
    "    2. no parameter, return value\n",
    "    3. parameter, no return value\n",
    "    4. parameter, return value\n",
    "- based on parameter type\n",
    "    1. required parameter\n",
    "    2. keyword parameter\n",
    "    3. default parameter\n",
    "    4. variable length arguments (*args)\n",
    "    5. variable keyword arguments (**kwargs)\n",
    "- other types of function\n",
    "    - lambda function\n",
    "    - generator function\n",
    "    - recursive function"
   ]
  },
  {
   "cell_type": "code",
   "execution_count": null,
   "metadata": {},
   "outputs": [],
   "source": [
    "#  value returing function\n",
    "def area():\n",
    "    l = int(input(\"Enter l = \"))\n",
    "    b = int(input(\"Enter b = \"))\n",
    "    return l*b"
   ]
  },
  {
   "cell_type": "code",
   "execution_count": null,
   "metadata": {},
   "outputs": [],
   "source": [
    "ans = area()\n",
    "print(f'area is {ans}')"
   ]
  },
  {
   "cell_type": "code",
   "execution_count": null,
   "metadata": {},
   "outputs": [],
   "source": [
    "def math():\n",
    "    p = int(input(\"Enter the Principle: \"))\n",
    "    r = int(input(\"Enter the Rate: \"))\n",
    "    t = int(input(\"Enter the Time: \"))\n",
    "    si = p*r*t/100\n",
    "    amt = p + si\n",
    "    return si, amt"
   ]
  },
  {
   "cell_type": "code",
   "execution_count": null,
   "metadata": {},
   "outputs": [],
   "source": [
    "result = math()\n",
    "print('si',result[0])\n",
    "print('amt',result[1])"
   ]
  },
  {
   "cell_type": "code",
   "execution_count": null,
   "metadata": {},
   "outputs": [],
   "source": [
    "si, amount = math()\n",
    "print(si, amount)"
   ]
  },
  {
   "cell_type": "code",
   "execution_count": null,
   "metadata": {},
   "outputs": [],
   "source": [
    "def is_armstrong(number):\n",
    "    t = number\n",
    "    s = 0 # sum\n",
    "    pow = len(str(number))\n",
    "    while number > 0:\n",
    "        r = number % 10\n",
    "        s += r ** pow\n",
    "        number //= 10\n",
    "    return t == s\n"
   ]
  },
  {
   "cell_type": "code",
   "execution_count": null,
   "metadata": {},
   "outputs": [],
   "source": [
    "x = int(input('enter a number'))\n",
    "print(is_armstrong(x))"
   ]
  },
  {
   "cell_type": "code",
   "execution_count": null,
   "metadata": {},
   "outputs": [],
   "source": [
    "for i in range(100,999999):\n",
    "    if is_armstrong(i):\n",
    "        print(i)"
   ]
  },
  {
   "cell_type": "code",
   "execution_count": null,
   "metadata": {},
   "outputs": [],
   "source": [
    "def adder(a,b,c):\n",
    "    return a + b + c"
   ]
  },
  {
   "cell_type": "code",
   "execution_count": null,
   "metadata": {},
   "outputs": [],
   "source": [
    "print(adder(5, 2, 5))"
   ]
  },
  {
   "cell_type": "code",
   "execution_count": null,
   "metadata": {},
   "outputs": [],
   "source": [
    "print(adder(a=4, b=2, c=5)) # keyword arguments\n",
    "print(adder(b=10, c=20, a=10)) # allows for any order\n",
    "print(adder(10, c=20, b=20))\n",
    "print(adder(10, 20, c=30))"
   ]
  },
  {
   "cell_type": "code",
   "execution_count": null,
   "metadata": {},
   "outputs": [],
   "source": [
    "print(1,2,3,4)"
   ]
  },
  {
   "cell_type": "code",
   "execution_count": null,
   "metadata": {},
   "outputs": [],
   "source": [
    "def multiplier(a, b, c=1):\n",
    "    return a * b * c"
   ]
  },
  {
   "cell_type": "code",
   "execution_count": null,
   "metadata": {},
   "outputs": [],
   "source": [
    "print(multiplier(2, 3))\n",
    "print(multiplier(2, 3, 10))\n",
    "print(multiplier(2, 3, c=5))"
   ]
  },
  {
   "cell_type": "code",
   "execution_count": null,
   "metadata": {},
   "outputs": [],
   "source": [
    "from string import punctuation\n",
    "def cleaner(data, chars=None):\n",
    "    if chars is None:\n",
    "        chars = punctuation\n",
    "    for c in chars:\n",
    "        data = data.replace(c, '')\n",
    "    return data"
   ]
  },
  {
   "cell_type": "code",
   "execution_count": null,
   "metadata": {},
   "outputs": [],
   "source": [
    "print(punctuation)"
   ]
  },
  {
   "cell_type": "code",
   "execution_count": null,
   "metadata": {},
   "outputs": [],
   "source": [
    "cleaner('h@!#*(!@*#(el!@#)(!@)#lo{}#{@}!', chars='!@#*{}[]')"
   ]
  },
  {
   "cell_type": "code",
   "execution_count": null,
   "metadata": {},
   "outputs": [],
   "source": [
    "def multiplier(*nums):\n",
    "    result = 1\n",
    "    for num in nums:\n",
    "        result *= num\n",
    "    return result"
   ]
  },
  {
   "cell_type": "code",
   "execution_count": null,
   "metadata": {},
   "outputs": [],
   "source": [
    "print(multiplier())\n",
    "print(multiplier(2))\n",
    "print(multiplier(2,3,5,6,78,9))\n",
    "print(multiplier(2,3,5,6,7,1,2,2,3,3,1,1,2,2,2,1,1))"
   ]
  },
  {
   "cell_type": "code",
   "execution_count": null,
   "metadata": {},
   "outputs": [],
   "source": [
    "def aggregator(*x, action='sum'):\n",
    "    if action == 'sum':\n",
    "        return sum(x)\n",
    "    elif action == 'count':\n",
    "        return len(x)\n",
    "    elif action == 'mean':\n",
    "        return sum(x) / len(x)\n",
    "    else:\n",
    "        raise ValueError('Invalid action')"
   ]
  },
  {
   "cell_type": "code",
   "execution_count": null,
   "metadata": {},
   "outputs": [],
   "source": [
    "aggregator(1,2,3,3,1,1,2,2,3, action='mean')"
   ]
  },
  {
   "cell_type": "code",
   "execution_count": null,
   "metadata": {},
   "outputs": [],
   "source": [
    "def sorter(*data, type='number'):\n",
    "    if type=='number':\n",
    "        clean_data = []\n",
    "        for i in data:\n",
    "            if isinstance(i, int) or isinstance(i, float):\n",
    "                clean_data.append(i)\n",
    "        clean_data.sort()\n",
    "        return clean_data\n",
    "    else:\n",
    "        return None"
   ]
  },
  {
   "cell_type": "code",
   "execution_count": null,
   "metadata": {},
   "outputs": [],
   "source": [
    "sorter(11,6,7,12)"
   ]
  },
  {
   "cell_type": "code",
   "execution_count": null,
   "metadata": {},
   "outputs": [],
   "source": [
    "sorter(12,45,'a','b',2,5,6,7)"
   ]
  },
  {
   "cell_type": "code",
   "execution_count": 16,
   "metadata": {},
   "outputs": [],
   "source": [
    "def display_data(**data):\n",
    "    print(\"Your data:\")\n",
    "    total = 0\n",
    "    for k, v in data.items():\n",
    "        print(f\"{k:10}{v}\")\n",
    "        total += v\n",
    "    print('-'*20)\n",
    "    print(f\"Total: Rs.{total}\")\n",
    "    print('-'*20)\n",
    "    \n"
   ]
  },
  {
   "cell_type": "code",
   "execution_count": 17,
   "metadata": {},
   "outputs": [
    {
     "name": "stdout",
     "output_type": "stream",
     "text": [
      "Your data:\n",
      "dahi      50\n",
      "medicine  1200\n",
      "tshirt    250\n",
      "fruits    100\n",
      "--------------------\n",
      "Total: Rs.1600\n",
      "--------------------\n"
     ]
    }
   ],
   "source": [
    "display_data(dahi=50, medicine=1200, tshirt=250, fruits=100)"
   ]
  },
  {
   "cell_type": "markdown",
   "metadata": {},
   "source": [
    "`f(x)= x**2 + x*10 + x`\n",
    "\n",
    "`f(2)`"
   ]
  },
  {
   "cell_type": "code",
   "execution_count": 20,
   "metadata": {},
   "outputs": [
    {
     "name": "stdout",
     "output_type": "stream",
     "text": [
      "210\n",
      "60\n",
      "26\n"
     ]
    }
   ],
   "source": [
    "f = lambda x: x**2 + x*10 + x\n",
    "print(f(10))\n",
    "print(f(4))\n",
    "print(f(2))"
   ]
  },
  {
   "cell_type": "code",
   "execution_count": 21,
   "metadata": {},
   "outputs": [
    {
     "name": "stdout",
     "output_type": "stream",
     "text": [
      "18\n",
      "708\n",
      "156\n"
     ]
    }
   ],
   "source": [
    "g = lambda x,y : x**3 + y**4 + x*y - 1 \n",
    "print(g(1,2))\n",
    "print(g(4,5))\n",
    "print(g(4,3))"
   ]
  },
  {
   "cell_type": "code",
   "execution_count": 23,
   "metadata": {},
   "outputs": [],
   "source": [
    "hyp = lambda p,b : (p**2 + b**2)**.5 "
   ]
  },
  {
   "cell_type": "code",
   "execution_count": 25,
   "metadata": {},
   "outputs": [
    {
     "data": {
      "text/plain": [
       "19.1049731745428"
      ]
     },
     "execution_count": 25,
     "metadata": {},
     "output_type": "execute_result"
    }
   ],
   "source": [
    "hyp(13,14)"
   ]
  },
  {
   "cell_type": "markdown",
   "metadata": {},
   "source": [
    "MAP : list of data -> operation -> new list of data\n",
    "\n",
    "FILTER : list of data -> condition -> new list of data"
   ]
  },
  {
   "cell_type": "code",
   "execution_count": 34,
   "metadata": {},
   "outputs": [
    {
     "name": "stdout",
     "output_type": "stream",
     "text": [
      "[8, 27, 1728, 29791, 27, 1728, 29791, 12167]\n"
     ]
    }
   ],
   "source": [
    "x = [2,3,12,31,3,12,31,23]\n",
    "x3 = list(map(lambda i: i**3, x))\n",
    "print(x3)"
   ]
  },
  {
   "cell_type": "code",
   "execution_count": 38,
   "metadata": {},
   "outputs": [
    {
     "name": "stdout",
     "output_type": "stream",
     "text": [
      "[2, 6, 12, 30, 15, 25]\n"
     ]
    }
   ],
   "source": [
    "x = [1,2,3,5,5,5]\n",
    "y = [2,3,4,6,3,5]\n",
    "xy = list(map(lambda i,j: i*j, x,y))\n",
    "print(xy)"
   ]
  },
  {
   "cell_type": "code",
   "execution_count": 42,
   "metadata": {},
   "outputs": [
    {
     "name": "stdout",
     "output_type": "stream",
     "text": [
      "[1, 3, 1, 3, 3, 3, 1, 3]\n"
     ]
    }
   ],
   "source": [
    "a = [1,2,3,4,1,3,2,2,3,3,1,2,3,4]\n",
    "b = list(filter(lambda i: i%2==1, a))\n",
    "print(b)"
   ]
  },
  {
   "cell_type": "code",
   "execution_count": 48,
   "metadata": {},
   "outputs": [],
   "source": [
    "from random import randint"
   ]
  },
  {
   "cell_type": "code",
   "execution_count": 49,
   "metadata": {},
   "outputs": [],
   "source": [
    "def random_range(s,e,size=10):\n",
    "    for i in range(size):\n",
    "        yield randint(s,e)"
   ]
  },
  {
   "cell_type": "code",
   "execution_count": 60,
   "metadata": {},
   "outputs": [
    {
     "name": "stdout",
     "output_type": "stream",
     "text": [
      "73 52 29 70 79 58 2 19 32 86 11 28 55 2 85 "
     ]
    }
   ],
   "source": [
    "for i in random_range(1,100, 15):\n",
    "    print(i, end=' ')"
   ]
  },
  {
   "cell_type": "code",
   "execution_count": null,
   "metadata": {},
   "outputs": [],
   "source": []
  }
 ],
 "metadata": {
  "kernelspec": {
   "display_name": "base",
   "language": "python",
   "name": "python3"
  },
  "language_info": {
   "codemirror_mode": {
    "name": "ipython",
    "version": 3
   },
   "file_extension": ".py",
   "mimetype": "text/x-python",
   "name": "python",
   "nbconvert_exporter": "python",
   "pygments_lexer": "ipython3",
   "version": "3.10.11"
  },
  "orig_nbformat": 4
 },
 "nbformat": 4,
 "nbformat_minor": 2
}
