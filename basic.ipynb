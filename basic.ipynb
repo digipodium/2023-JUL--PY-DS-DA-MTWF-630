{
 "cells": [
  {
   "cell_type": "code",
   "execution_count": 5,
   "metadata": {},
   "outputs": [
    {
     "name": "stdout",
     "output_type": "stream",
     "text": [
      "10 <class 'int'>\n",
      "10.2 <class 'float'>\n",
      "Hello <class 'str'>\n",
      "True <class 'bool'>\n",
      "None <class 'NoneType'>\n",
      "[1, 2, 3] <class 'list'>\n",
      "(1, 2, 2, 2, 3) <class 'tuple'>\n",
      "{1, 2, 3} <class 'set'>\n",
      "{'a': 1, 'b': 2} <class 'dict'>\n"
     ]
    }
   ],
   "source": [
    "a = 10 # int\n",
    "print(a, type(a))\n",
    "a = 10.2 # float\n",
    "print(a, type(a))\n",
    "a = 'Hello' # str\n",
    "print(a, type(a))\n",
    "a = True # bool\n",
    "print(a, type(a))\n",
    "a = None # NoneType\n",
    "print(a, type(a))\n",
    "a = [1,2,3] # list\n",
    "print(a, type(a))\n",
    "a = (1,2,2,2,3) # tuple\n",
    "print(a, type(a))\n",
    "a = {1,2,3} # set\n",
    "print(a, type(a))\n",
    "a = {'a':1, 'b':2} # dict\n",
    "print(a, type(a))"
   ]
  },
  {
   "cell_type": "code",
   "execution_count": 11,
   "metadata": {},
   "outputs": [
    {
     "name": "stdout",
     "output_type": "stream",
     "text": [
      "\n",
      "5 10\n",
      "5 10 15\n",
      "5\n",
      "10\n",
      "15\n"
     ]
    }
   ],
   "source": [
    "print()\n",
    "a = 5\n",
    "b = 10\n",
    "print(a, b)\n",
    "print(a, b, a + b)\n",
    "print(a, b, a+b, sep='\\n')"
   ]
  },
  {
   "cell_type": "code",
   "execution_count": 17,
   "metadata": {},
   "outputs": [
    {
     "name": "stdout",
     "output_type": "stream",
     "text": [
      "5, 10\n",
      "15\n"
     ]
    }
   ],
   "source": [
    "c = a + b\n",
    "print(a, end=', ')\n",
    "print(b)\n",
    "print(c)"
   ]
  },
  {
   "cell_type": "code",
   "execution_count": 24,
   "metadata": {},
   "outputs": [],
   "source": [
    "print = 12903"
   ]
  },
  {
   "cell_type": "code",
   "execution_count": 26,
   "metadata": {},
   "outputs": [],
   "source": [
    "del print"
   ]
  },
  {
   "cell_type": "code",
   "execution_count": 27,
   "metadata": {},
   "outputs": [
    {
     "name": "stdout",
     "output_type": "stream",
     "text": [
      "5\n"
     ]
    }
   ],
   "source": [
    "print(a)"
   ]
  },
  {
   "cell_type": "code",
   "execution_count": 28,
   "metadata": {},
   "outputs": [
    {
     "name": "stdout",
     "output_type": "stream",
     "text": [
      "Hello my value is 5\n"
     ]
    }
   ],
   "source": [
    "print('Hello', 'my value is', a)"
   ]
  },
  {
   "cell_type": "code",
   "execution_count": 32,
   "metadata": {},
   "outputs": [
    {
     "name": "stdout",
     "output_type": "stream",
     "text": [
      "my name is Alex, i am 17 years old, i live in London\n"
     ]
    }
   ],
   "source": [
    "name = 'Alex'\n",
    "age = 17\n",
    "city = 'London'\n",
    "print(f'my name is {name}, i am {age} years old, i live in {city}')"
   ]
  },
  {
   "cell_type": "code",
   "execution_count": 46,
   "metadata": {},
   "outputs": [
    {
     "name": "stdout",
     "output_type": "stream",
     "text": [
      "10/3 = 3.33\n",
      "10 / 3 = 3.33\n"
     ]
    }
   ],
   "source": [
    "x = 10\n",
    "y = 3\n",
    "z = x / y\n",
    "print(f'{x}/{y} = {z:.2f}')\n",
    "print(x,'/',y, '=', round(z,2))"
   ]
  },
  {
   "cell_type": "code",
   "execution_count": 52,
   "metadata": {},
   "outputs": [
    {
     "name": "stdout",
     "output_type": "stream",
     "text": [
      "Sara       22\n",
      "Elizabeth  21\n",
      "Sam        24\n"
     ]
    }
   ],
   "source": [
    "n1='Sara'\n",
    "n2='Elizabeth'\n",
    "n3='Sam'\n",
    "a1, a2, a3 = 22, 21, 24\n",
    "print(f'{n1:10} {a1}')\n",
    "print(f'{n2:10} {a2}')\n",
    "print(f'{n3:10} {a3}')"
   ]
  },
  {
   "cell_type": "code",
   "execution_count": null,
   "metadata": {},
   "outputs": [],
   "source": []
  }
 ],
 "metadata": {
  "kernelspec": {
   "display_name": "base",
   "language": "python",
   "name": "python3"
  },
  "language_info": {
   "codemirror_mode": {
    "name": "ipython",
    "version": 3
   },
   "file_extension": ".py",
   "mimetype": "text/x-python",
   "name": "python",
   "nbconvert_exporter": "python",
   "pygments_lexer": "ipython3",
   "version": "3.10.11"
  },
  "orig_nbformat": 4
 },
 "nbformat": 4,
 "nbformat_minor": 2
}
