{
 "cells": [
  {
   "cell_type": "markdown",
   "metadata": {},
   "source": [
    "# list\n",
    "- indexed, ordered, mutable, can have duplicates, `[]`, `list()`\n",
    "\n",
    "# tuple\n",
    "- indexed, ordered, *immutable*, can have duplicates, `()`, `tuple()`\n",
    "\n",
    "# set\n",
    "- unindexed, unordered, mutable, *cannot have duplicates*, `{}`, `set()`\n",
    "\n",
    "# dictionary\n",
    "- unindexed, ordered, mutable, *key:value pairs*, *immutable keys*, `{'key':'value'}`, `dict()`"
   ]
  },
  {
   "cell_type": "code",
   "execution_count": null,
   "metadata": {},
   "outputs": [],
   "source": [
    "# creating list\n",
    "x = [] # empty list\n",
    "a = [1,2,3,4,5] # numeric list\n",
    "colors = ['red','green','blue']  # string list\n",
    "mixed = [1,2,'red','green', False, True, None, [1,2,3]] # mixed list\n",
    "nested_list = [[1,2,3], [4,5,6]] # nested list"
   ]
  },
  {
   "cell_type": "code",
   "execution_count": null,
   "metadata": {},
   "outputs": [],
   "source": [
    "name = 'Alexander'\n",
    "charlist = list(name)\n",
    "print(charlist)"
   ]
  },
  {
   "cell_type": "code",
   "execution_count": null,
   "metadata": {},
   "outputs": [],
   "source": [
    "colors * 3"
   ]
  },
  {
   "cell_type": "code",
   "execution_count": null,
   "metadata": {},
   "outputs": [],
   "source": [
    "a + colors # list concat"
   ]
  },
  {
   "cell_type": "code",
   "execution_count": null,
   "metadata": {},
   "outputs": [],
   "source": [
    "colors = [\n",
    "    'red','green','blue','pink',\n",
    "    'orange','brown','black',\n",
    "    'white','gray', 'yellow'\n",
    "]\n",
    "len(colors)"
   ]
  },
  {
   "cell_type": "code",
   "execution_count": null,
   "metadata": {},
   "outputs": [],
   "source": [
    "print(colors[0])\n",
    "print(colors[-1])\n",
    "print(colors[5])\n",
    "colors[0] = 'Red' # mutability\n",
    "print(colors[0])"
   ]
  },
  {
   "cell_type": "code",
   "execution_count": null,
   "metadata": {},
   "outputs": [],
   "source": [
    "print(colors[:5])\n",
    "print(colors[-3:])\n",
    "print(colors[::-1])"
   ]
  },
  {
   "cell_type": "markdown",
   "metadata": {},
   "source": [
    "total 11 methods in a list\n",
    "- to add\n",
    "    1. append()\n",
    "    2. extend()\n",
    "    3. insert()\n",
    "- to remove\n",
    "    1. remove()\n",
    "    2. pop()\n",
    "    3. clear()\n",
    "- for utility\n",
    "    1. reverse()\n",
    "    2. sort()\n",
    "    3. copy()\n",
    "    4. count()\n",
    "    5. index()"
   ]
  },
  {
   "cell_type": "code",
   "execution_count": 18,
   "metadata": {},
   "outputs": [],
   "source": [
    "tvshows = [] # empty list\n",
    "tvshows.append(\"Chota Bheem\")\n",
    "tvshows.append(\"Ben 10\")\n",
    "tvshows.append(\"Doraemon\")"
   ]
  },
  {
   "cell_type": "code",
   "execution_count": 21,
   "metadata": {},
   "outputs": [],
   "source": [
    "show = input('enter a show name:')\n",
    "tvshows.append(show)"
   ]
  },
  {
   "cell_type": "code",
   "execution_count": 22,
   "metadata": {},
   "outputs": [
    {
     "name": "stdout",
     "output_type": "stream",
     "text": [
      "['Chota Bheem', 'Ben 10', 'Doraemon', 'Jack Ryan', 'Jack Reacher']\n"
     ]
    }
   ],
   "source": [
    "print(tvshows)"
   ]
  },
  {
   "cell_type": "code",
   "execution_count": 23,
   "metadata": {},
   "outputs": [
    {
     "name": "stdout",
     "output_type": "stream",
     "text": [
      "['Chota Bheem', 'The Office', 'Ben 10', 'Doraemon', 'Friends', 'Jack Ryan', 'Jack Reacher']\n"
     ]
    }
   ],
   "source": [
    "tvshows.insert(1, \"The Office\")\n",
    "tvshows.insert(4, \"Friends\")\n",
    "print(tvshows)"
   ]
  },
  {
   "cell_type": "code",
   "execution_count": 24,
   "metadata": {},
   "outputs": [],
   "source": [
    "user_shows = input('enter your favorite shows separated by commas: ')\n",
    "user_shows = user_shows.split(',')"
   ]
  },
  {
   "cell_type": "code",
   "execution_count": 27,
   "metadata": {},
   "outputs": [
    {
     "name": "stdout",
     "output_type": "stream",
     "text": [
      "['Chota Bheem', 'The Office', 'Ben 10', 'Doraemon', 'Friends', 'Jack Ryan', 'Jack Reacher', 'Our Planet', ' Breaking Bad', ' Mob Psycho 100', ' Trese ']\n"
     ]
    }
   ],
   "source": [
    "tvshows.extend(user_shows)\n",
    "print(tvshows)"
   ]
  },
  {
   "cell_type": "code",
   "execution_count": 32,
   "metadata": {},
   "outputs": [
    {
     "name": "stdout",
     "output_type": "stream",
     "text": [
      "['Chota Bheem', 'The Office', 'Ben 10', 'Friends', 'Jack Ryan', 'Our Planet', ' Breaking Bad', ' Mob Psycho 100', ' Trese ']\n"
     ]
    }
   ],
   "source": [
    "if 'Doraemon' in tvshows:\n",
    "    tvshows.remove('Doraemon') # Remove an item from the list\n",
    "print(tvshows)"
   ]
  },
  {
   "cell_type": "code",
   "execution_count": 34,
   "metadata": {},
   "outputs": [
    {
     "name": "stdout",
     "output_type": "stream",
     "text": [
      "Friends\n"
     ]
    }
   ],
   "source": [
    "popped_value = tvshows.pop(2)\n",
    "print(popped_value)"
   ]
  },
  {
   "cell_type": "code",
   "execution_count": 39,
   "metadata": {},
   "outputs": [
    {
     "data": {
      "text/plain": [
       "'Our Planet'"
      ]
     },
     "execution_count": 39,
     "metadata": {},
     "output_type": "execute_result"
    }
   ],
   "source": [
    "tvshows.pop() # pop() removes the last element from the list"
   ]
  },
  {
   "cell_type": "code",
   "execution_count": 41,
   "metadata": {},
   "outputs": [],
   "source": [
    "tvshows.clear()"
   ]
  },
  {
   "cell_type": "code",
   "execution_count": 42,
   "metadata": {},
   "outputs": [],
   "source": [
    "del mixed"
   ]
  },
  {
   "cell_type": "code",
   "execution_count": 44,
   "metadata": {},
   "outputs": [
    {
     "data": {
      "text/plain": [
       "[]"
      ]
     },
     "execution_count": 44,
     "metadata": {},
     "output_type": "execute_result"
    }
   ],
   "source": [
    "tvshows"
   ]
  },
  {
   "cell_type": "code",
   "execution_count": 46,
   "metadata": {},
   "outputs": [
    {
     "name": "stdout",
     "output_type": "stream",
     "text": [
      "[6, 4, 5, 4, 34, 312, 12, 23, 31, 312, 2, 31, 321, 2]\n"
     ]
    }
   ],
   "source": [
    "x = [2,321,31,2,312,31,23,12,312,34,4,5,4,6]\n",
    "x.reverse()\n",
    "print(x)"
   ]
  },
  {
   "cell_type": "code",
   "execution_count": 47,
   "metadata": {},
   "outputs": [
    {
     "name": "stdout",
     "output_type": "stream",
     "text": [
      "[2, 321, 31, 2, 312, 31, 23, 12, 312, 34, 4, 5, 4, 6]\n"
     ]
    }
   ],
   "source": [
    "x.reverse()\n",
    "print(x)"
   ]
  },
  {
   "cell_type": "code",
   "execution_count": 48,
   "metadata": {},
   "outputs": [
    {
     "name": "stdout",
     "output_type": "stream",
     "text": [
      "[2, 2, 4, 4, 5, 6, 12, 23, 31, 31, 34, 312, 312, 321]\n"
     ]
    }
   ],
   "source": [
    "x.sort() # ascending order  \n",
    "print(x)"
   ]
  },
  {
   "cell_type": "code",
   "execution_count": 49,
   "metadata": {},
   "outputs": [
    {
     "name": "stdout",
     "output_type": "stream",
     "text": [
      "[321, 312, 312, 34, 31, 31, 23, 12, 6, 5, 4, 4, 2, 2]\n"
     ]
    }
   ],
   "source": [
    "x.sort(reverse=True) # reverse=True: descending order\n",
    "print(x)"
   ]
  },
  {
   "cell_type": "code",
   "execution_count": 50,
   "metadata": {},
   "outputs": [
    {
     "data": {
      "text/plain": [
       "2"
      ]
     },
     "execution_count": 50,
     "metadata": {},
     "output_type": "execute_result"
    }
   ],
   "source": [
    "x.count(31) # how many times 31 appears in the list"
   ]
  },
  {
   "cell_type": "code",
   "execution_count": 51,
   "metadata": {},
   "outputs": [
    {
     "data": {
      "text/plain": [
       "3"
      ]
     },
     "execution_count": 51,
     "metadata": {},
     "output_type": "execute_result"
    }
   ],
   "source": [
    "x.index(34) # on which index is 34 value"
   ]
  },
  {
   "cell_type": "code",
   "execution_count": 52,
   "metadata": {},
   "outputs": [
    {
     "name": "stdout",
     "output_type": "stream",
     "text": [
      "[1, 2, 3, 1, 2, 3, 3, 4, 5, 1, 1]\n"
     ]
    }
   ],
   "source": [
    "x = [1,2,3,1,2,3,3,4,5,1,1,]\n",
    "print(x)"
   ]
  },
  {
   "cell_type": "code",
   "execution_count": 55,
   "metadata": {},
   "outputs": [
    {
     "name": "stdout",
     "output_type": "stream",
     "text": [
      "0\n",
      "3\n",
      "9\n",
      "10\n"
     ]
    }
   ],
   "source": [
    "start = 0\n",
    "for i in range(x.count(1)):\n",
    "    pos = x.index(1, start)\n",
    "    start = pos + 1\n",
    "    print(pos)"
   ]
  },
  {
   "cell_type": "code",
   "execution_count": null,
   "metadata": {},
   "outputs": [],
   "source": []
  }
 ],
 "metadata": {
  "kernelspec": {
   "display_name": "base",
   "language": "python",
   "name": "python3"
  },
  "language_info": {
   "codemirror_mode": {
    "name": "ipython",
    "version": 3
   },
   "file_extension": ".py",
   "mimetype": "text/x-python",
   "name": "python",
   "nbconvert_exporter": "python",
   "pygments_lexer": "ipython3",
   "version": "3.10.11"
  },
  "orig_nbformat": 4
 },
 "nbformat": 4,
 "nbformat_minor": 2
}
