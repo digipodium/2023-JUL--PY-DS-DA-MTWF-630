{
 "cells": [
  {
   "cell_type": "markdown",
   "metadata": {},
   "source": [
    "before beginning the program\n",
    "install the library\n",
    "```\n",
    "pip install dputils\n",
    "```"
   ]
  },
  {
   "cell_type": "code",
   "execution_count": 29,
   "metadata": {},
   "outputs": [],
   "source": [
    "import requests\n",
    "from bs4 import BeautifulSoup"
   ]
  },
  {
   "cell_type": "code",
   "execution_count": 30,
   "metadata": {},
   "outputs": [],
   "source": [
    "url = 'https://blog.jetbrains.com'"
   ]
  },
  {
   "cell_type": "code",
   "execution_count": 31,
   "metadata": {},
   "outputs": [
    {
     "name": "stdout",
     "output_type": "stream",
     "text": [
      "Success!\n"
     ]
    }
   ],
   "source": [
    "try:\n",
    "    page = requests.get(url)\n",
    "    if page.status_code == 200:\n",
    "        print('Success!')\n",
    "    elif page.status_code == 404:\n",
    "        print('Page Not Found.')\n",
    "    elif page.status_code == 503:\n",
    "        print('Service Unavailable.')\n",
    "except Exception as e:\n",
    "    print('Error', e)"
   ]
  },
  {
   "cell_type": "code",
   "execution_count": 32,
   "metadata": {},
   "outputs": [],
   "source": [
    "soup = BeautifulSoup(page.content, 'html.parser')"
   ]
  },
  {
   "cell_type": "code",
   "execution_count": 33,
   "metadata": {},
   "outputs": [
    {
     "name": "stdout",
     "output_type": "stream",
     "text": [
      "<title>JetBrains Blog: The Drive to Develop</title>\n"
     ]
    }
   ],
   "source": [
    "print(soup.title)"
   ]
  },
  {
   "cell_type": "code",
   "execution_count": 38,
   "metadata": {},
   "outputs": [
    {
     "name": "stdout",
     "output_type": "stream",
     "text": [
      "target area found\n"
     ]
    }
   ],
   "source": [
    "target = soup.find('div', class_ = 'latest')\n",
    "if target:\n",
    "    print(\"target area found\")\n",
    "else:\n",
    "    print(\"target area not found\")"
   ]
  },
  {
   "cell_type": "code",
   "execution_count": 40,
   "metadata": {},
   "outputs": [
    {
     "name": "stdout",
     "output_type": "stream",
     "text": [
      "articles found\n",
      "Total articles found:  12\n"
     ]
    }
   ],
   "source": [
    "articles = target.find_all('div', class_='col')\n",
    "if articles:\n",
    "    print(\"articles found\")\n",
    "    total = len(articles)\n",
    "    print(\"Total articles found: \", total)\n",
    "else:\n",
    "    print(\"articles not found\")"
   ]
  },
  {
   "cell_type": "code",
   "execution_count": 52,
   "metadata": {},
   "outputs": [
    {
     "name": "stdout",
     "output_type": "stream",
     "text": [
      "Fleet Preview Update 1.23: Updated Problems View, Rewrite Code… Feature, Download File To… Action for Remote Workspaces, and More\n",
      "Fleet 1.23 is now available!\n",
      "\n",
      "\n",
      "\n",
      "To the Fleet team, the sequence 1-2-3 symbolizes both the step-by-step growth of Fleet and the natural progression of your coding journey. Dive into this release, where (1) coding simplicity, (2) balance, and (3) creative enhancements come together to elevate your dev…\n",
      "2023-09-12\n",
      "Roman Prokashev\n",
      "https://blog.jetbrains.com/wp-content/uploads/2021/06/80718421_2591979197552910_3267075862792503296_n-50x50.jpeg\n",
      "Join Us for a Live Introduction to Algorithmic Challenges in Kotlin!\n",
      "Are you preparing for technical interviews, or do you simply want to master algorithms? Join us for a practical livestream where we’ll introduce the Algorithmic Challenges in Kotlin course!\n",
      "2023-09-12\n",
      "Ksenia Shneyveys\n",
      "https://blog.jetbrains.com/wp-content/uploads/2023/09/Blog_Featured_image_1280x600-3.png\n",
      "How Gradle Uses TeamCity to Run 30,000 Green Builds Per Day\n",
      "In this case study, we’ll take a deep look into how Gradle Build Tool uses TeamCity to run tens of thousands of builds a day, while keeping the failure rate under control.\n",
      "2023-09-12\n",
      "Olga Bedrina\n",
      "https://blog.jetbrains.com/wp-content/uploads/2023/09/how-Gradle-uses-TeamCity_page-preview-1-1-1.png\n",
      "JPA and React Plugins: From Buddies To Full Members of The JetBrains Family \n",
      "We are excited to announce that JPA Buddy and React Buddy have joined the JetBrains family. Positioned as powerful plugins for working with JPA data and React applications, respectively, they will offer even more functionality for IntelliJ IDEA and WebStorm developers moving forward.\n",
      "\n",
      "\n",
      "\n",
      "With this ac…\n",
      "2023-09-11\n",
      "Yuriy Artamonov\n",
      "https://blog.jetbrains.com/wp-content/uploads/2023/09/Space-Blog-1280x600-2x.png\n",
      "New Livestream – Java 21: Focus on Virtual Threads and Pattern Matching\n",
      "Join us for the new IntelliJ IDEA LiveStream episode with José Paumard to learn about the Java 21 release. Date: September 28, 2023. Time: 3:00 – 4:00 pm UTC.\n",
      "None\n",
      "Anna Rovinskaia\n",
      "https://blog.jetbrains.com/wp-content/uploads/2023/09/Sep-2023-IntelliJ-IDEA-LiveStream-Jose-Paumard-Featured_Blog_image_1280x720-2x.png\n",
      "Introducing the New CLion Conan Plugin\n",
      "We are thrilled to announce the launch of the new version of the Conan CLion Plugin, now compatible with the 2.X versions of Conan.\n",
      "2023-09-08\n",
      "Anastasia Kazakova\n",
      "https://blog.jetbrains.com/wp-content/uploads/2023/09/CLion-blog-post-on-Conan_Featured_1280x720.png\n",
      "The Power of Automation: Enhancing Your Manual Code Review Process\n",
      "Code reviews help you strategically dig deeper into your work. They enable you to identify bugs, potential fixes, vulnerabilities, and much more to ultimately improve the quality of your source code and your knowledge of it. This can have a direct impact on team learning, project build speed and qua…\n",
      "2023-09-07\n",
      "Kerry Beetge\n",
      "https://blog.jetbrains.com/wp-content/uploads/2023/09/Featured_1280x720.png\n",
      ".NET Annotated Monthly | September 2023\n",
      "Did you know? The original usage of the term “computer” referred to people (mostly women), not machines. It’s possible that one day the word “programmer” could morph into meaning “AI”, and no longer refers to a person.\n",
      "\n",
      "\n",
      "\n",
      "\n",
      "\n",
      "\n",
      "\n",
      ".NET news\n",
      "\n",
      "\n",
      "\n",
      "\n",
      "Visual Studio for Mac Retirement Announcement 🚮\u001f…\n",
      "2023-09-07\n",
      "Rachel Appel\n",
      "https://blog.jetbrains.com/wp-content/uploads/2023/09/dotnet-annotated-featured_blog_1280x720.png\n",
      "JetBrains Academy’s New Projects and Topics: September Update\n",
      "The latest content update, featuring four new projects and more than 90 new topics to learn.\n",
      "2023-09-06\n",
      "Regina Muradova\n",
      "https://blog.jetbrains.com/wp-content/uploads/2023/09/Blog_Featured_image_1280x600-2.png\n",
      "Busy Plugin Developers Newsletter – Summer 2023\n",
      "Read this blog post to discover what has come to JetBrains Marketplace this Summer!\n",
      "2023-09-05\n",
      "Elena Kerpeleva\n",
      "https://blog.jetbrains.com/wp-content/uploads/2023/09/featured_blog-bpd-_1280x720.png\n",
      "What’s New in Datalore Enterprise 2023.4\n",
      "Datalore Enterprise 2023.4 includes comments for notebooks and reports, a new Viewer license type, report sharing via email invitations, and other improvements\n",
      "2023-09-05\n",
      "Alina Anikina\n",
      "https://blog.jetbrains.com/wp-content/uploads/2023/09/Featured_image_1280x720_Datalore-2x.png\n",
      "Java Annotated Monthly – September 2023\n",
      "The September edition of Java Annotated Monthly is here!\n",
      "\n",
      "\n",
      "\n",
      "With this month’s release of Java 21 approaching, we're excited to bring you a final sneak peek into its crucial features. But that's not all! This edition is packed with helpful articles about cutting-edge AI technologies, including update…\n",
      "2023-09-05\n",
      "Irina Maryasova\n",
      "https://blog.jetbrains.com/wp-content/uploads/2023/09/java-annotated-featured_blog_1280x720.png\n"
     ]
    }
   ],
   "source": [
    "for item in articles:\n",
    "    try: pubdate = item.find('time')['datetime']\n",
    "    except: pubdate = None\n",
    "    title = item.find('h3').text\n",
    "    summary = item.find('p').text\n",
    "    author = item.find('span').text\n",
    "    img_src = item.find('img')['src']\n",
    "    \n",
    "    print(title)\n",
    "    print(summary)\n",
    "    print(pubdate)\n",
    "    print(author)\n",
    "    print(img_src)\n",
    "    "
   ]
  },
  {
   "cell_type": "code",
   "execution_count": null,
   "metadata": {},
   "outputs": [],
   "source": []
  }
 ],
 "metadata": {
  "kernelspec": {
   "display_name": "base",
   "language": "python",
   "name": "python3"
  },
  "language_info": {
   "codemirror_mode": {
    "name": "ipython",
    "version": 3
   },
   "file_extension": ".py",
   "mimetype": "text/x-python",
   "name": "python",
   "nbconvert_exporter": "python",
   "pygments_lexer": "ipython3",
   "version": "3.11.5"
  },
  "orig_nbformat": 4
 },
 "nbformat": 4,
 "nbformat_minor": 2
}
