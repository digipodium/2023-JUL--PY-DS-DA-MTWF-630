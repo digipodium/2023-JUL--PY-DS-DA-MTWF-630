{
 "cells": [
  {
   "cell_type": "code",
   "execution_count": 1,
   "metadata": {},
   "outputs": [],
   "source": [
    "from bs4 import BeautifulSoup\n",
    "import requests"
   ]
  },
  {
   "cell_type": "code",
   "execution_count": 3,
   "metadata": {},
   "outputs": [
    {
     "name": "stdout",
     "output_type": "stream",
     "text": [
      "success\n"
     ]
    }
   ],
   "source": [
    "url = 'https://www.flipkart.com/search?q=tv'\n",
    "try:\n",
    "    response = requests.get(url)\n",
    "    soup = BeautifulSoup(response.text, 'html.parser')\n",
    "    print('success')\n",
    "except Exception as e:\n",
    "    print(e)"
   ]
  },
  {
   "cell_type": "code",
   "execution_count": 5,
   "metadata": {},
   "outputs": [
    {
     "name": "stdout",
     "output_type": "stream",
     "text": [
      "target found\n"
     ]
    }
   ],
   "source": [
    "target = soup.find('div', class_ = '_1YokD2 _3Mn1Gg')\n",
    "if target:\n",
    "    print('target found')\n",
    "else:\n",
    "    print('target not found')"
   ]
  },
  {
   "cell_type": "code",
   "execution_count": 6,
   "metadata": {},
   "outputs": [
    {
     "name": "stdout",
     "output_type": "stream",
     "text": [
      "products found\n",
      "total products:  26\n"
     ]
    }
   ],
   "source": [
    "products = target.find_all('div', class_ = '_1AtVbE col-12-12')\n",
    "if products:\n",
    "    print('products found')\n",
    "    total = len(products)\n",
    "    print('total products: ', total)\n",
    "else:\n",
    "    print('products not found')"
   ]
  },
  {
   "cell_type": "code",
   "execution_count": 14,
   "metadata": {},
   "outputs": [
    {
     "name": "stdout",
     "output_type": "stream",
     "text": [
      "BeethoSOL 60 cm (24 inch) HD Ready LED TV\n",
      "1,990 Ratings & 248 Reviews\n",
      "₹5,449\n",
      "Mi A series 100 cm (40 inch) Full HD LED Smart Google TV 2023 Edition\n",
      "4,68,810 Ratings & 47,202 Reviews\n",
      "₹21,499\n",
      "Mi A series 80 cm (32 inch) HD Ready LED Smart Google TV 2023 Edition with 1.5 GB RAM and Dolby Audio ...\n",
      "4,68,810 Ratings & 47,202 Reviews\n",
      "₹12,499\n",
      "LG 80 cm (32 inch) HD Ready LED Smart WebOS TV\n",
      "60,930 Ratings & 5,256 Reviews\n",
      "₹13,490\n",
      "Mi 5A 80 cm (32 inch) HD Ready LED Smart Android TV with Dolby Audio (2022 Model)\n",
      "4,68,810 Ratings & 47,202 Reviews\n",
      "₹12,499\n",
      "SAMSUNG 80 cm (32 Inch) HD Ready LED Smart Tizen TV 2022 Edition with Bezel-free Design\n",
      "1,00,105 Ratings & 8,290 Reviews\n",
      "₹14,990\n",
      "realme 80 cm (32 inch) HD Ready LED Smart Android TV 2023 Edition with Android 11\n",
      "2,13,043 Ratings & 23,235 Reviews\n",
      "₹12,999\n",
      "Adsun Frameless 80 cm (32 inch) HD Ready LED Smart Android Based TV\n",
      "20,305 Ratings & 3,024 Reviews\n",
      "₹8,500\n",
      "TCL 80.04 cm (32 inch) HD Ready LED Smart Android TV 2022 Edition with Bezel Less & Extra Brightness\n",
      "1,878 Ratings & 207 Reviews\n",
      "₹11,990\n",
      "Infinix Y1 80 cm (32 inch) HD Ready LED Smart Linux TV 2022 Edition with Wall Mount\n",
      "33,933 Ratings & 4,081 Reviews\n",
      "₹8,999\n",
      "Mi A series 108 cm (43 inch) Full HD LED Smart Google TV 2023 Edition with Bezel-less Design and Dolby...\n",
      "4,68,810 Ratings & 47,202 Reviews\n",
      "₹23,999\n",
      "Adsun 80 cm (32 inch) HD Ready LED Smart Android Based TV\n",
      "20,305 Ratings & 3,024 Reviews\n",
      "₹7,950\n",
      "realme 80 cm (32 inch) HD Ready LED Smart Android TV\n",
      "2,13,043 Ratings & 23,235 Reviews\n",
      "₹11,999\n",
      "TCL 80.04 cm (32 inch) Full HD LED Smart Google TV 2022 Edition with Bezel Less & Extra Brightness\n",
      "663 Ratings & 99 Reviews\n",
      "₹13,990\n",
      "LG 80 cm (32 inch) HD Ready LED Smart WebOS TV 2022 Edition with Alpha5 Gen5 AI Processor | (Ceramic B...\n",
      "2,855 Ratings & 353 Reviews\n",
      "₹15,990\n",
      "Mi X Series 108 cm (43 inch) Ultra HD (4K) LED Smart Android TV 2022 Edition with Dolby Vision and 30W...\n",
      "98,322 Ratings & 9,615 Reviews\n",
      "₹25,999\n",
      "Adsun 80 cm (32 inch) HD Ready LED TV\n",
      "20,305 Ratings & 3,024 Reviews\n",
      "₹6,789\n",
      "Mi X Series 108 cm (43 inch) Ultra HD (4K) LED Smart Google TV 2023 Edition with Dolby Vision and 30W ...\n",
      "98,322 Ratings & 9,615 Reviews\n",
      "₹28,999\n",
      "OnePlus Y1S 101 cm (40 inch) Full HD LED Smart Android TV 2023 Edition with Android 11 and Bezel-Less ...\n",
      "96,865 Ratings & 8,422 Reviews\n",
      "₹21,999\n",
      "Infinix X3IN 80 cm (32 inch) HD Ready LED Smart Android TV 2023 Edition\n",
      "6,146 Ratings & 900 Reviews\n",
      "₹9,999\n",
      "MarQ by Flipkart by Flipkart 80 cm (32 inch) HD Ready LED TV\n",
      "7,288 Ratings & 892 Reviews\n",
      "₹7,649\n",
      "BeethoSOL 80 cm (32 inch) HD Ready LED Smart Android TV\n",
      "1,990 Ratings & 248 Reviews\n",
      "₹8,249\n",
      "OnePlus Y1S 108 cm (43 inch) Full HD LED Smart Android TV 2022 Edition with Android 11 and Bezel-Less ...\n",
      "78,696 Ratings & 7,270 Reviews\n",
      "₹24,999\n",
      "TCL 80.04 cm (32 inch) Full HD LED Smart Android TV 2023 Edition\n",
      "1,878 Ratings & 207 Reviews\n",
      "₹12,490\n",
      "None\n",
      "None\n",
      "None\n",
      "None\n",
      "None\n",
      "None\n"
     ]
    }
   ],
   "source": [
    "for item in products:\n",
    "    try:title = item.find('div', class_ = '_4rR01T').text\n",
    "    except: title = None\n",
    "    \n",
    "    try:review_n_rating = item.find('span', class_='_2_R_DZ').text\n",
    "    except: review_n_rating = None\n",
    "    \n",
    "    try: price = item.find('div', class_='_30jeq3 _1_WHN1').text\n",
    "    except: price = None\n",
    "\n",
    "    print(title)\n",
    "    print(review_n_rating)\n",
    "    print(price)"
   ]
  },
  {
   "cell_type": "code",
   "execution_count": null,
   "metadata": {},
   "outputs": [],
   "source": []
  },
  {
   "cell_type": "code",
   "execution_count": null,
   "metadata": {},
   "outputs": [],
   "source": []
  }
 ],
 "metadata": {
  "kernelspec": {
   "display_name": "base",
   "language": "python",
   "name": "python3"
  },
  "language_info": {
   "codemirror_mode": {
    "name": "ipython",
    "version": 3
   },
   "file_extension": ".py",
   "mimetype": "text/x-python",
   "name": "python",
   "nbconvert_exporter": "python",
   "pygments_lexer": "ipython3",
   "version": "3.11.5"
  },
  "orig_nbformat": 4
 },
 "nbformat": 4,
 "nbformat_minor": 2
}
