{
 "cells": [
  {
   "cell_type": "code",
   "execution_count": null,
   "metadata": {},
   "outputs": [],
   "source": [
    "import numpy as np\n",
    "import matplotlib.pyplot as plt"
   ]
  },
  {
   "cell_type": "code",
   "execution_count": null,
   "metadata": {},
   "outputs": [],
   "source": [
    "x = [0,1,2,3,4,5,6,7,8,9]\n",
    "y = [23,45,12,67,34,89,12,34,56,78]"
   ]
  },
  {
   "cell_type": "markdown",
   "metadata": {},
   "source": [
    "1. simple graph with automatic layout\n",
    "2. manual layout"
   ]
  },
  {
   "cell_type": "code",
   "execution_count": null,
   "metadata": {},
   "outputs": [],
   "source": [
    "plt.plot(x, y)"
   ]
  },
  {
   "cell_type": "code",
   "execution_count": null,
   "metadata": {},
   "outputs": [],
   "source": [
    "# change graph line color, marker, and style\n",
    "plt.plot(x, y, color='red', marker='o', linestyle='--')"
   ]
  },
  {
   "cell_type": "code",
   "execution_count": null,
   "metadata": {},
   "outputs": [],
   "source": [
    "# add text to each point in the graph\n",
    "plt.plot(x, y, color='red', marker='o', linestyle='--')\n",
    "for i in range(len(x)):\n",
    "    plt.text(x[i]-.2, y[i]+2, str(y[i]))\n",
    "plt.text(0, 80, \"A random graph\", fontsize=12, color='blue')"
   ]
  },
  {
   "cell_type": "code",
   "execution_count": null,
   "metadata": {},
   "outputs": [],
   "source": [
    "plt.plot(x, y)\n",
    "plt.xlim(-5,5)\n",
    "plt.ylim(20,80)"
   ]
  },
  {
   "cell_type": "code",
   "execution_count": null,
   "metadata": {},
   "outputs": [],
   "source": [
    "plt.plot(x, y, color='red', marker='o', linestyle='--', label='line 1')\n",
    "plt.title(\"A random graph\")\n",
    "plt.xlabel(\"X Values\")\n",
    "plt.ylabel(\"Y Values\")\n",
    "plt.legend()\n",
    "plt.xticks(np.arange(0,11),rotation=45)\n",
    "plt.show()"
   ]
  },
  {
   "cell_type": "code",
   "execution_count": null,
   "metadata": {},
   "outputs": [],
   "source": [
    "plt.figure(figsize=(7,4), dpi=100, facecolor='#efefef' )\n",
    "plt.plot(x, y, color='red', marker='o', linestyle='--', label='line 1')\n",
    "plt.title(\"A random graph\")\n",
    "plt.xlabel(\"X Values\")\n",
    "plt.ylabel(\"Y Values\")\n",
    "plt.legend()\n",
    "plt.xticks(np.arange(0,11),rotation=45)\n",
    "plt.show()"
   ]
  },
  {
   "cell_type": "code",
   "execution_count": null,
   "metadata": {},
   "outputs": [],
   "source": [
    "print(x)\n",
    "print(y)"
   ]
  },
  {
   "cell_type": "code",
   "execution_count": null,
   "metadata": {},
   "outputs": [],
   "source": [
    "z = [12,45,45,45,21,4,5,6,45,34]\n",
    "print(z)"
   ]
  },
  {
   "cell_type": "markdown",
   "metadata": {},
   "source": [
    "manual graph setup and creation"
   ]
  },
  {
   "cell_type": "code",
   "execution_count": null,
   "metadata": {},
   "outputs": [],
   "source": [
    "fig, ax = plt.subplots()\n",
    "ax.plot(x, y)\n",
    "ax.set_title(\"A random graph\")\n",
    "ax.set_xlabel(\"X Values\")\n",
    "ax.set_ylabel(\"Y Values\")\n",
    "ax.set_facecolor('#f9ff90')\n",
    "ax.text(0, 80, \"A random graph\", fontsize=12, color='blue')\n",
    "ax.axis('off')"
   ]
  },
  {
   "cell_type": "code",
   "execution_count": null,
   "metadata": {},
   "outputs": [],
   "source": [
    "fig, (ax1,ax2) = plt.subplots(ncols=2, figsize=(12, 4))\n",
    "ax1.plot(x, y)\n",
    "ax1.set_title(\"A random graph\")\n",
    "ax2.plot(x, z)\n",
    "ax2.set_title(\"A random graph\")"
   ]
  },
  {
   "cell_type": "code",
   "execution_count": null,
   "metadata": {},
   "outputs": [],
   "source": [
    "fig, (ax1, ax2, ax3, ax4) = plt.subplots(nrows=4, figsize=(4, 12))"
   ]
  },
  {
   "cell_type": "code",
   "execution_count": null,
   "metadata": {},
   "outputs": [],
   "source": [
    "fig, ((ax1, ax2), (ax3, ax4)) = plt.subplots(nrows=2,\n",
    "    ncols=2,figsize=(8, 8))"
   ]
  },
  {
   "cell_type": "code",
   "execution_count": null,
   "metadata": {},
   "outputs": [],
   "source": [
    "fig, ax = plt.subplots()\n",
    "# remove the top and right spines\n",
    "ax.spines['top'].set_visible(False)\n",
    "ax.spines['right'].set_visible(False)\n",
    "ax.scatter(y,z)\n"
   ]
  },
  {
   "cell_type": "markdown",
   "metadata": {},
   "source": [
    "Graph types\n",
    "- *Line Graph*: show trends over time\n",
    "- *Bar Graph*: compare values between categories (discrete data)\n",
    "- *Pie Chart*: compare values between categories (percentage data)\n",
    "- *Histogram*: show distribution of numerical data\n",
    "- *Box Plot*: statistical distribution of numerical data\n",
    "- *Heat Map*: show matrix of values using color\n",
    "- *Scatter Plot*: show relationship between two variables\n",
    "- *Bubble Chart*: show relationship between three variables"
   ]
  },
  {
   "cell_type": "code",
   "execution_count": null,
   "metadata": {},
   "outputs": [],
   "source": [
    "import seaborn as sns"
   ]
  },
  {
   "cell_type": "code",
   "execution_count": null,
   "metadata": {},
   "outputs": [],
   "source": [
    "tips = sns.load_dataset(\"tips\")\n",
    "tips"
   ]
  },
  {
   "cell_type": "code",
   "execution_count": null,
   "metadata": {},
   "outputs": [],
   "source": [
    "fig, ax= plt.subplots(figsize=(12,4))\n",
    "ax.plot('total_bill', data=tips, color='red', marker='.')"
   ]
  },
  {
   "cell_type": "code",
   "execution_count": null,
   "metadata": {},
   "outputs": [],
   "source": [
    "fig, ax= plt.subplots(figsize=(20,4))\n",
    "ax.bar(tips.index, 'total_bill', data=tips, color='red')\n",
    "ax.bar(tips.index, 'tip', data=tips, color='#99ff99')\n",
    "ax.set_xlim(0,100)"
   ]
  },
  {
   "cell_type": "code",
   "execution_count": null,
   "metadata": {},
   "outputs": [],
   "source": [
    "plt.figure(figsize=(20,4))\n",
    "plt.stem('total_bill', data=tips)"
   ]
  },
  {
   "cell_type": "code",
   "execution_count": null,
   "metadata": {},
   "outputs": [],
   "source": []
  }
 ],
 "metadata": {
  "kernelspec": {
   "display_name": "base",
   "language": "python",
   "name": "python3"
  },
  "language_info": {
   "codemirror_mode": {
    "name": "ipython",
    "version": 3
   },
   "file_extension": ".py",
   "mimetype": "text/x-python",
   "name": "python",
   "nbconvert_exporter": "python",
   "pygments_lexer": "ipython3",
   "version": "3.10.11"
  },
  "orig_nbformat": 4
 },
 "nbformat": 4,
 "nbformat_minor": 2
}
