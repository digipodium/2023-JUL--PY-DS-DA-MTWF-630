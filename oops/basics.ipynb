{
 "cells": [
  {
   "cell_type": "markdown",
   "metadata": {},
   "source": [
    "# oop\n",
    "- class\n",
    "- object\n",
    "- method\n",
    "    - constructor\n",
    "    - instance method\n",
    "- inheritance\n",
    "- multiple inheritance\n",
    "- data class\n",
    "- operator overloading"
   ]
  },
  {
   "cell_type": "code",
   "execution_count": 16,
   "metadata": {},
   "outputs": [],
   "source": [
    "# whatsapp example\n",
    "class Conversation:\n",
    "    name = \"\"\n",
    "    message = \"\"\n",
    "    def show(self):\n",
    "        print(\"Name: \", self.name)\n",
    "        print(\"Message: \", self.message)"
   ]
  },
  {
   "cell_type": "code",
   "execution_count": 17,
   "metadata": {},
   "outputs": [
    {
     "name": "stdout",
     "output_type": "stream",
     "text": [
      "<__main__.Conversation object at 0x000002B0BBDE4350> <__main__.Conversation object at 0x000002B0BBDE6D50>\n"
     ]
    }
   ],
   "source": [
    "c1 = Conversation() # object\n",
    "c2 = Conversation() # object\n",
    "c3 = Conversation()\n",
    "print(c1, c2)"
   ]
  },
  {
   "cell_type": "code",
   "execution_count": 18,
   "metadata": {},
   "outputs": [],
   "source": [
    "c1.name = \"Raj\"\n",
    "c1.message = \"Hello\"\n",
    "c2.name = \"Rahul\"\n",
    "c2.message = \"Hi\"\n",
    "c3.name = \"Rajesh\"\n",
    "c3.message = \"Hello Bro\""
   ]
  },
  {
   "cell_type": "code",
   "execution_count": 19,
   "metadata": {},
   "outputs": [
    {
     "name": "stdout",
     "output_type": "stream",
     "text": [
      "Name:  Raj\n",
      "Message:  Hello\n",
      "Name:  Rahul\n",
      "Message:  Hi\n",
      "Name:  Rajesh\n",
      "Message:  Hello Bro\n"
     ]
    }
   ],
   "source": [
    "c1.show()\n",
    "c2.show()\n",
    "c3.show()"
   ]
  },
  {
   "cell_type": "code",
   "execution_count": 20,
   "metadata": {},
   "outputs": [],
   "source": [
    "class Cat:\n",
    "    def __init__(self, breed, color, age, gender, type=\"pet\"):\n",
    "        self.breed = breed\n",
    "        self.color = color\n",
    "        self.age = age\n",
    "        self.gender = gender\n",
    "        self.type = type\n",
    "        self.is_hungry = True\n",
    "    \n",
    "    def info(self):\n",
    "        print(f'Breed :{self.breed}')\n",
    "        print(f'Color :{self.color}')\n",
    "        print(f'Age :{self.age}')\n",
    "        print(f'Gender:{self.gender}')\n",
    "        print(f'Type :{self.type}')\n",
    "        print(f'Is Hungry :{\"Yes\" if self.is_hungry else \"No\"}')"
   ]
  },
  {
   "cell_type": "code",
   "execution_count": 21,
   "metadata": {},
   "outputs": [],
   "source": [
    "tom = Cat('idk', 'grey', 100, 'male')\n",
    "snowbell = Cat('Persian', 'white', 3, 'female')\n",
    "blacky = Cat('Street cat', 'black', 4, 'male', 'stray')"
   ]
  },
  {
   "cell_type": "code",
   "execution_count": 22,
   "metadata": {},
   "outputs": [],
   "source": [
    "blacky.is_hungry = False"
   ]
  },
  {
   "cell_type": "code",
   "execution_count": 23,
   "metadata": {},
   "outputs": [
    {
     "name": "stdout",
     "output_type": "stream",
     "text": [
      "🐈\n",
      "Breed :idk\n",
      "Color :grey\n",
      "Age :100\n",
      "Gender:male\n",
      "Type :pet\n",
      "Is Hungry :Yes\n",
      "🐈\n",
      "Breed :Persian\n",
      "Color :white\n",
      "Age :3\n",
      "Gender:female\n",
      "Type :pet\n",
      "Is Hungry :Yes\n",
      "🐈\n",
      "Breed :Street cat\n",
      "Color :black\n",
      "Age :4\n",
      "Gender:male\n",
      "Type :stray\n",
      "Is Hungry :No\n"
     ]
    }
   ],
   "source": [
    "print('🐈')\n",
    "tom.info()\n",
    "print('🐈')\n",
    "snowbell.info()\n",
    "print('🐈')\n",
    "blacky.info()"
   ]
  },
  {
   "cell_type": "code",
   "execution_count": 24,
   "metadata": {},
   "outputs": [],
   "source": [
    "class ListX(list):\n",
    "    def filter(self, dtype = 'int'):\n",
    "        if dtype == 'int':\n",
    "            for item in self:\n",
    "                if isinstance(item, int):\n",
    "                    yield item\n",
    "        if dtype == 'str':\n",
    "            for item in self:\n",
    "                if isinstance(item, str):\n",
    "                    yield item\n",
    "        if dtype == 'list':\n",
    "            for item in self:\n",
    "                if isinstance(item, list):\n",
    "                    yield item"
   ]
  },
  {
   "cell_type": "code",
   "execution_count": 25,
   "metadata": {},
   "outputs": [
    {
     "data": {
      "text/plain": [
       "[1, 2, 3, 4, 5]"
      ]
     },
     "execution_count": 25,
     "metadata": {},
     "output_type": "execute_result"
    }
   ],
   "source": [
    "x = ListX([1, 2, 3, 4, 5, 'a', 'b', 'c'])\n",
    "list(x.filter())"
   ]
  },
  {
   "cell_type": "code",
   "execution_count": 26,
   "metadata": {},
   "outputs": [
    {
     "data": {
      "text/plain": [
       "['a', 'b', 'c']"
      ]
     },
     "execution_count": 26,
     "metadata": {},
     "output_type": "execute_result"
    }
   ],
   "source": [
    "list(x.filter('str'))"
   ]
  },
  {
   "cell_type": "code",
   "execution_count": 27,
   "metadata": {},
   "outputs": [
    {
     "data": {
      "text/plain": [
       "[[1, 2, 3], [5, 6, 3]]"
      ]
     },
     "execution_count": 27,
     "metadata": {},
     "output_type": "execute_result"
    }
   ],
   "source": [
    "x = ListX([[1,2,3],[5,6,3],'hello', 1,2,3])\n",
    "list(x.filter('list'))"
   ]
  },
  {
   "cell_type": "code",
   "execution_count": 28,
   "metadata": {},
   "outputs": [],
   "source": [
    "from dataclasses import dataclass\n",
    "from datetime import datetime\n",
    "\n",
    "@dataclass\n",
    "class Conversation:\n",
    "    name: str\n",
    "    message: str\n",
    "    profile_pic: str\n",
    "    time:datetime = datetime.now()\n",
    "    status: str = 'sent'\n",
    "    is_group: bool = False\n",
    "    is_muted: bool = False\n"
   ]
  },
  {
   "cell_type": "code",
   "execution_count": 29,
   "metadata": {},
   "outputs": [],
   "source": [
    "c1 = Conversation('Raj', 'Hello', 'raj.jpg')\n",
    "c2 = Conversation('Rahul', 'Hi',  'rahul.jpg')\n",
    "c3 = Conversation('Rohan', 'Hola', 'rohan.jpg', status='seen')\n",
    "c4 = Conversation('Gadhe', 'Hi', 'group.jpg', is_group=True)"
   ]
  },
  {
   "cell_type": "code",
   "execution_count": 37,
   "metadata": {},
   "outputs": [],
   "source": [
    "class Person:\n",
    "    def __init__(self, name, age):\n",
    "        self.name = name\n",
    "        self.age = age\n",
    "    # to string method\n",
    "    def __str__(self):\n",
    "        return self.name\n",
    "    \n",
    "    # representation method\n",
    "    def __repr__(self):\n",
    "        return f'Person({self.name})'\n",
    "    \n",
    "    # greater than operator overloading\n",
    "    def __gt__(self, other):\n",
    "        if isinstance(other, Person):\n",
    "            return self.age > other.age\n",
    "        else:\n",
    "            raise TypeError('Invalid type')"
   ]
  },
  {
   "cell_type": "code",
   "execution_count": 38,
   "metadata": {},
   "outputs": [],
   "source": [
    "p1 = Person('Raj', 20)\n",
    "p3 = Person('Rohan', 22)\n",
    "p2 = Person('Rahul', 21)"
   ]
  },
  {
   "cell_type": "code",
   "execution_count": 39,
   "metadata": {},
   "outputs": [
    {
     "name": "stdout",
     "output_type": "stream",
     "text": [
      "Raj Rahul Rohan\n"
     ]
    }
   ],
   "source": [
    "print(p1, p2, p3)"
   ]
  },
  {
   "cell_type": "code",
   "execution_count": 40,
   "metadata": {},
   "outputs": [
    {
     "data": {
      "text/plain": [
       "True"
      ]
     },
     "execution_count": 40,
     "metadata": {},
     "output_type": "execute_result"
    }
   ],
   "source": [
    "p3 > p2"
   ]
  },
  {
   "cell_type": "code",
   "execution_count": 41,
   "metadata": {},
   "outputs": [],
   "source": [
    "x = [p1, p2, p3, p1]\n",
    "x.sort()"
   ]
  },
  {
   "cell_type": "code",
   "execution_count": 42,
   "metadata": {},
   "outputs": [
    {
     "data": {
      "text/plain": [
       "[Person(Raj), Person(Raj), Person(Rahul), Person(Rohan)]"
      ]
     },
     "execution_count": 42,
     "metadata": {},
     "output_type": "execute_result"
    }
   ],
   "source": [
    "x"
   ]
  },
  {
   "cell_type": "code",
   "execution_count": 43,
   "metadata": {},
   "outputs": [
    {
     "name": "stdout",
     "output_type": "stream",
     "text": [
      "Name: Rahul\n",
      "Language: Python\n",
      "Level: 1\n",
      "Playing Type: Bowler\n",
      "Cuisine: Italian\n",
      "Name: Raj\n",
      "Language: Java\n",
      "Level: 1\n",
      "Playing Type: Batsman\n",
      "Cuisine: Indian\n"
     ]
    }
   ],
   "source": [
    "# multiple inheritance\n",
    "\n",
    "class Coder:\n",
    "    def __init__(self, language, level=1):\n",
    "        self.language = language\n",
    "        self.level = level\n",
    "\n",
    "    def info(self):\n",
    "        print(f'Language: {self.language}')\n",
    "        print(f'Level: {self.level}')\n",
    "\n",
    "class Criketer:\n",
    "    def __init__(self, type='Batsman'):\n",
    "        self.type = type\n",
    "\n",
    "class Chef:\n",
    "    def __init__(self, cuisine='Indian'):\n",
    "        self.cuisine = cuisine\n",
    "    \n",
    "    def info(self):\n",
    "        print(f'Cuisine: {self.cuisine}')\n",
    "\n",
    "class SkilledPerson(Coder, Criketer, Chef):\n",
    "    def __init__(self, name,language, playingType, cuisine, langlevel=1):\n",
    "        Coder.__init__(self, language, langlevel)\n",
    "        Criketer.__init__(self, playingType)\n",
    "        Chef.__init__(self, cuisine)\n",
    "        self.name = name\n",
    "    \n",
    "    # method overriding\n",
    "    def info(self):\n",
    "        print(f'Name: {self.name}')\n",
    "        Coder.info(self)\n",
    "        print(f'Playing Type: {self.type}')\n",
    "        Chef.info(self)\n",
    "\n",
    "s1 = SkilledPerson('Rahul', 'Python', 'Bowler', 'Italian')\n",
    "s2 = SkilledPerson('Raj', 'Java', 'Batsman', 'Indian')\n",
    "s1.info()\n",
    "s2.info()"
   ]
  },
  {
   "cell_type": "code",
   "execution_count": null,
   "metadata": {},
   "outputs": [],
   "source": []
  }
 ],
 "metadata": {
  "kernelspec": {
   "display_name": "base",
   "language": "python",
   "name": "python3"
  },
  "language_info": {
   "codemirror_mode": {
    "name": "ipython",
    "version": 3
   },
   "file_extension": ".py",
   "mimetype": "text/x-python",
   "name": "python",
   "nbconvert_exporter": "python",
   "pygments_lexer": "ipython3",
   "version": "3.11.5"
  },
  "orig_nbformat": 4
 },
 "nbformat": 4,
 "nbformat_minor": 2
}
