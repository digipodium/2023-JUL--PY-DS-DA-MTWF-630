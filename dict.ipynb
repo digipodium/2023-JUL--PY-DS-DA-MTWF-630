{
 "cells": [
  {
   "cell_type": "code",
   "execution_count": null,
   "metadata": {},
   "outputs": [],
   "source": [
    "book = {\n",
    "    'title': 'The Final Empire',\n",
    "    'author': 'Brandon Sanderson',\n",
    "    'price' : 1499,\n",
    "    'publisher': 'Tor Books',\n",
    "    'year' : 2006,\n",
    "    'pages' : 541,\n",
    "    'languages': ['english','french','spanish']   \n",
    "}"
   ]
  },
  {
   "cell_type": "code",
   "execution_count": null,
   "metadata": {},
   "outputs": [],
   "source": [
    "book['rating']= 4.9\n",
    "book['type'] = 'paperback'\n",
    "print(book)"
   ]
  },
  {
   "cell_type": "code",
   "execution_count": null,
   "metadata": {},
   "outputs": [],
   "source": [
    "book['pages']"
   ]
  },
  {
   "cell_type": "code",
   "execution_count": null,
   "metadata": {},
   "outputs": [],
   "source": [
    "book.pop('pages')"
   ]
  },
  {
   "cell_type": "code",
   "execution_count": null,
   "metadata": {},
   "outputs": [],
   "source": [
    "book"
   ]
  },
  {
   "cell_type": "code",
   "execution_count": null,
   "metadata": {},
   "outputs": [],
   "source": [
    "list(book.keys())"
   ]
  },
  {
   "cell_type": "code",
   "execution_count": null,
   "metadata": {},
   "outputs": [],
   "source": [
    "list(book.values())"
   ]
  },
  {
   "cell_type": "code",
   "execution_count": null,
   "metadata": {},
   "outputs": [],
   "source": [
    "list(book.items()) # key value pair as tuple"
   ]
  },
  {
   "cell_type": "code",
   "execution_count": null,
   "metadata": {},
   "outputs": [],
   "source": [
    "book.get('publisher')"
   ]
  },
  {
   "cell_type": "code",
   "execution_count": null,
   "metadata": {},
   "outputs": [],
   "source": [
    "book.get('publisher', 'not found')"
   ]
  },
  {
   "cell_type": "code",
   "execution_count": null,
   "metadata": {},
   "outputs": [],
   "source": [
    "book.get('Publisher', 'not found')"
   ]
  },
  {
   "cell_type": "code",
   "execution_count": null,
   "metadata": {},
   "outputs": [],
   "source": [
    "myrating = {}\n",
    "for i in range(1,4):\n",
    "    name = input(f'enter the name of movie {i}:')\n",
    "    rating = float(input(f'enter the rating of movie {i}:'))\n",
    "    myrating[name] = rating\n",
    "\n",
    "print(myrating)"
   ]
  },
  {
   "cell_type": "code",
   "execution_count": null,
   "metadata": {},
   "outputs": [],
   "source": [
    "for i in myrating:\n",
    "    print(i) # only keys\n",
    "\n",
    "print('---'* 10)\n",
    "for i in myrating:\n",
    "    print(i, myrating[i]) # only values\n",
    "\n",
    "print('---'* 10)\n",
    "for k,v in myrating.items():\n",
    "    print(k,v) # both keys and values"
   ]
  },
  {
   "cell_type": "code",
   "execution_count": null,
   "metadata": {},
   "outputs": [],
   "source": [
    "book.clear()\n",
    "print(book)"
   ]
  },
  {
   "cell_type": "code",
   "execution_count": null,
   "metadata": {},
   "outputs": [],
   "source": [
    "books = {\n",
    "    'book1': {\n",
    "        'title': 'The Final Empire',\n",
    "        'author': 'Brandon Sanderson',\n",
    "        'price' : 1499,\n",
    "    },\n",
    "    'book2': {\n",
    "        'title': 'The Well of Ascension',\n",
    "        'author': 'Brandon Sanderson',\n",
    "        'price' : 1699,\n",
    "        'publisher': 'Tor Books',\n",
    "    },\n",
    "    'book3': {\n",
    "        'title': 'The Hero of Ages',\n",
    "        'author': 'Brandon Sanderson',\n",
    "        'price' : 1799,\n",
    "    } \n",
    "}"
   ]
  },
  {
   "cell_type": "code",
   "execution_count": null,
   "metadata": {},
   "outputs": [],
   "source": [
    "for name, detail in books.items():\n",
    "    print(name)\n",
    "    for k, v in detail.items():\n",
    "        print(f\"\\t{k} = {v}\")"
   ]
  },
  {
   "cell_type": "code",
   "execution_count": 40,
   "metadata": {},
   "outputs": [
    {
     "name": "stdout",
     "output_type": "stream",
     "text": [
      "book2 {'title': 'The Well of Ascension', 'author': 'Brandon Sanderson', 'price': 1699, 'publisher': 'Tor Books'}\n"
     ]
    }
   ],
   "source": [
    "query = \"The Well\"\n",
    "for name, detail in books.items():\n",
    "    if query in detail['title']:\n",
    "        print(name, detail)"
   ]
  },
  {
   "cell_type": "markdown",
   "metadata": {},
   "source": [
    "wap to create a dictionary that store numbers and their squares"
   ]
  },
  {
   "cell_type": "code",
   "execution_count": null,
   "metadata": {},
   "outputs": [],
   "source": []
  }
 ],
 "metadata": {
  "kernelspec": {
   "display_name": "base",
   "language": "python",
   "name": "python3"
  },
  "language_info": {
   "codemirror_mode": {
    "name": "ipython",
    "version": 3
   },
   "file_extension": ".py",
   "mimetype": "text/x-python",
   "name": "python",
   "nbconvert_exporter": "python",
   "pygments_lexer": "ipython3",
   "version": "3.10.11"
  },
  "orig_nbformat": 4
 },
 "nbformat": 4,
 "nbformat_minor": 2
}
