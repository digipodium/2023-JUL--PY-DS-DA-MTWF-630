{
 "cells": [
  {
   "cell_type": "markdown",
   "metadata": {},
   "source": [
    "wap to find all the indexes of a search element in a given list"
   ]
  },
  {
   "cell_type": "code",
   "execution_count": 11,
   "metadata": {},
   "outputs": [],
   "source": [
    "a = [1,1,2,3,4,5,6,1,1,1,2,2,3,3,3,3,3,1,1,1,2,2,2,2,3,3,5]"
   ]
  },
  {
   "cell_type": "code",
   "execution_count": 13,
   "metadata": {},
   "outputs": [
    {
     "name": "stdout",
     "output_type": "stream",
     "text": [
      "[2, 10, 11, 20, 21, 22, 23]\n"
     ]
    }
   ],
   "source": [
    "search = 2\n",
    "cnt = a.count(search)\n",
    "start = 0\n",
    "results = []\n",
    "for i in range(cnt):\n",
    "    idx = a.index(search, start)\n",
    "    start = idx + 1\n",
    "    results.append(idx)\n",
    "print(results)"
   ]
  },
  {
   "cell_type": "code",
   "execution_count": 14,
   "metadata": {},
   "outputs": [
    {
     "name": "stdout",
     "output_type": "stream",
     "text": [
      "[0, 1, 1, 2, 3, 5, 8, 13, 21, 34, 55, 89, 144, 233, 377, 610, 987]\n"
     ]
    }
   ],
   "source": [
    "fib = [0,1]\n",
    "for i in range(15):\n",
    "    fib.append(fib[-1] + fib[-2])\n",
    "print(fib)"
   ]
  },
  {
   "cell_type": "code",
   "execution_count": 32,
   "metadata": {},
   "outputs": [
    {
     "name": "stdout",
     "output_type": "stream",
     "text": [
      "1220136825991110068701238785423046926253574342803192842192413588385845373153881997605496447502203281863013616477148203584163378722078177200480785205159329285477907571939330603772960859086270429174547882424912726344305670173270769461062802310452644218878789465754777149863494367781037644274033827365397471386477878495438489595537537990423241061271326984327745715546309977202781014561081188373709531016356324432987029563896628911658974769572087926928871281780070265174507768410719624390394322536422605234945850129918571501248706961568141625359056693423813008856249246891564126775654481886506593847951775360894005745238940335798476363944905313062323749066445048824665075946735862074637925184200459369692981022263971952597190945217823331756934581508552332820762820023402626907898342451712006207714640979456116127629145951237229913340169552363850942885592018727433795173014586357570828355780158735432768888680120399882384702151467605445407663535984174430480128938313896881639487469658817504506926365338175055478128640000000000000000000000000000000000000000000000000000000000000000000000000000000000000000000000000000000000000000000000000000\n"
     ]
    }
   ],
   "source": [
    "num = 500\n",
    "f = 1\n",
    "for i in range(1, num+1):\n",
    "    f = f * i\n",
    "print(f)"
   ]
  },
  {
   "cell_type": "code",
   "execution_count": 35,
   "metadata": {},
   "outputs": [
    {
     "name": "stdout",
     "output_type": "stream",
     "text": [
      "['blue', 'white', 'purple', 'orange']\n"
     ]
    }
   ],
   "source": [
    "# filter\n",
    "colors = ['red', 'green', 'blue', 'yellow',\n",
    "    'white', 'black', 'pink', 'purple',\n",
    "    'orange', 'brown', 'gray', 'cyan']\n",
    "colors_with_n = []\n",
    "for c in colors:\n",
    "    if c.endswith('e'):\n",
    "        colors_with_n.append(c)\n",
    "print(colors_with_n)"
   ]
  },
  {
   "cell_type": "code",
   "execution_count": 36,
   "metadata": {},
   "outputs": [
    {
     "name": "stdout",
     "output_type": "stream",
     "text": [
      "['red', 'green', 'blue', 'yellow', 'white', 'black', 'purple', 'orange', 'gray', 'cyan']\n"
     ]
    }
   ],
   "source": [
    "colors_having_ane=[]\n",
    "for c in colors:\n",
    "    if 'a' in c or 'e' in c:\n",
    "        colors_having_ane.append(c)\n",
    "print(colors_having_ane)"
   ]
  },
  {
   "cell_type": "code",
   "execution_count": 41,
   "metadata": {},
   "outputs": [
    {
     "name": "stdout",
     "output_type": "stream",
     "text": [
      "[3, 4, 5, 6, 7, 8, 9, 10, 11, 12]\n"
     ]
    }
   ],
   "source": [
    "# mapping\n",
    "a = [1,2,3,4,5,6,7,8,9,10]\n",
    "a2 = []\n",
    "for num in a:\n",
    "    a2.append(num + 2)\n",
    "print(a2)"
   ]
  },
  {
   "cell_type": "code",
   "execution_count": 59,
   "metadata": {},
   "outputs": [
    {
     "name": "stdout",
     "output_type": "stream",
     "text": [
      "['AK', 'VS', 'RK', 'RS', 'HP', 'AG']\n"
     ]
    }
   ],
   "source": [
    "full_names= ['Amar Kumar','Vijay Singh',\n",
    "             'Rajesh Kumar','Rajesh Singh',\n",
    "             'Harish Pandey', 'Ajay Kumar Garg']\n",
    "short_names = []\n",
    "for nm in full_names:\n",
    "    words = nm.split()\n",
    "    short_names.append(words[0][0]+words[-1][0])\n",
    "print(short_names)"
   ]
  },
  {
   "cell_type": "code",
   "execution_count": null,
   "metadata": {},
   "outputs": [],
   "source": []
  }
 ],
 "metadata": {
  "kernelspec": {
   "display_name": "base",
   "language": "python",
   "name": "python3"
  },
  "language_info": {
   "codemirror_mode": {
    "name": "ipython",
    "version": 3
   },
   "file_extension": ".py",
   "mimetype": "text/x-python",
   "name": "python",
   "nbconvert_exporter": "python",
   "pygments_lexer": "ipython3",
   "version": "3.10.11"
  },
  "orig_nbformat": 4
 },
 "nbformat": 4,
 "nbformat_minor": 2
}
